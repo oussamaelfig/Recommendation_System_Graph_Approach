{
  "cells": [
    {
      "cell_type": "code",
      "execution_count": 3,
      "metadata": {
        "colab": {
          "base_uri": "https://localhost:8080/"
        },
        "id": "bh74cfaKZUcg",
        "outputId": "2cc7c2ee-d151-45cb-c2db-87a40b263884"
      },
      "outputs": [
        {
          "name": "stdout",
          "output_type": "stream",
          "text": [
            "Collecting networkx==3.0\n",
            "  Using cached networkx-3.0-py3-none-any.whl.metadata (5.1 kB)\n",
            "Note: you may need to restart the kernel to use updated packages.\n"
          ]
        },
        {
          "name": "stderr",
          "output_type": "stream",
          "text": [
            "ERROR: Ignored the following yanked versions: 1.11.0\n",
            "ERROR: Ignored the following versions that require a different python version: 1.10.0 Requires-Python <3.12,>=3.8; 1.10.0rc1 Requires-Python <3.12,>=3.8; 1.10.0rc2 Requires-Python <3.12,>=3.8; 1.10.1 Requires-Python <3.12,>=3.8; 1.6.2 Requires-Python >=3.7,<3.10; 1.6.3 Requires-Python >=3.7,<3.10; 1.7.0 Requires-Python >=3.7,<3.10; 1.7.1 Requires-Python >=3.7,<3.10; 1.7.2 Requires-Python >=3.7,<3.11; 1.7.3 Requires-Python >=3.7,<3.11; 1.8.0 Requires-Python >=3.8,<3.11; 1.8.0rc1 Requires-Python >=3.8,<3.11; 1.8.0rc2 Requires-Python >=3.8,<3.11; 1.8.0rc3 Requires-Python >=3.8,<3.11; 1.8.0rc4 Requires-Python >=3.8,<3.11; 1.8.1 Requires-Python >=3.8,<3.11; 1.9.0 Requires-Python >=3.8,<3.12; 1.9.0rc1 Requires-Python >=3.8,<3.12; 1.9.0rc2 Requires-Python >=3.8,<3.12; 1.9.0rc3 Requires-Python >=3.8,<3.12; 1.9.1 Requires-Python >=3.8,<3.12\n",
            "ERROR: Could not find a version that satisfies the requirement scipy==1.10 (from versions: 0.8.0, 0.9.0, 0.10.0, 0.10.1, 0.11.0, 0.12.0, 0.12.1, 0.13.0, 0.13.1, 0.13.2, 0.13.3, 0.14.0, 0.14.1, 0.15.0, 0.15.1, 0.16.0, 0.16.1, 0.17.0, 0.17.1, 0.18.0, 0.18.1, 0.19.0, 0.19.1, 1.0.0, 1.0.1, 1.1.0, 1.2.0, 1.2.1, 1.2.2, 1.2.3, 1.3.0, 1.3.1, 1.3.2, 1.3.3, 1.4.0, 1.4.1, 1.5.0, 1.5.1, 1.5.2, 1.5.3, 1.5.4, 1.6.0, 1.6.1, 1.9.2, 1.9.3, 1.11.0rc1, 1.11.0rc2, 1.11.1, 1.11.2, 1.11.3, 1.11.4, 1.12.0rc1, 1.12.0rc2, 1.12.0, 1.13.0rc1, 1.13.0)\n",
            "ERROR: No matching distribution found for scipy==1.10\n"
          ]
        }
      ],
      "source": [
        "%pip install networkx==3.0 scipy==1.10"
      ]
    },
    {
      "cell_type": "code",
      "execution_count": 4,
      "metadata": {
        "id": "x4odbOSCU4Wa"
      },
      "outputs": [],
      "source": [
        "import numpy as np\n",
        "import pandas as pd \n",
        "import seaborn as sns\n",
        "import pandas as pd\n",
        "import matplotlib.pyplot as plt\n",
        "import scipy.io\n",
        "import networkx as nx\n",
        "\n",
        "from tqdm import tqdm\n",
        "from sklearn.metrics.pairwise import cosine_similarity\n",
        "\n",
        "# --------------------------- Définition des Fonctions ---------------------------\n",
        "def MRR_on_ranks(query_ranks):\n",
        "    \"Takes an array of ranks of the query set and returns the MRR of that query set.\"\n",
        "    return np.mean(1 / np.array(query_ranks))"
      ]
    },
    {
      "cell_type": "code",
      "execution_count": 5,
      "metadata": {
        "id": "6mtSiYhK5dGX"
      },
      "outputs": [],
      "source": [
        "## Defining Figure Size:\n",
        "sns.set(rc={\"figure.figsize\":(12, 6)})"
      ]
    },
    {
      "cell_type": "markdown",
      "metadata": {
        "id": "c3Yy2OCC0_qe"
      },
      "source": [
        "#### Loading the Data"
      ]
    },
    {
      "cell_type": "code",
      "execution_count": 6,
      "metadata": {
        "id": "ROSS5qhN1Cbr"
      },
      "outputs": [
        {
          "name": "stderr",
          "output_type": "stream",
          "text": [
            "<>:5: SyntaxWarning: invalid escape sequence '\\s'\n",
            "<>:5: SyntaxWarning: invalid escape sequence '\\s'\n",
            "C:\\Users\\oussa\\AppData\\Local\\Temp\\ipykernel_12504\\2424905474.py:5: SyntaxWarning: invalid escape sequence '\\s'\n",
            "  node_ids_csv  = pd.read_csv('Data/tp-matrix-names.csv', sep=\"\\s+\")\n"
          ]
        }
      ],
      "source": [
        "## Loading the Adjacency Matrix, node IDs, test dataset and Creating graph\n",
        "M             = scipy.io.mmread('Data/tp-matrix.dgt').tocsr()\n",
        "G             = nx.from_numpy_array(M, create_using=nx.DiGraph)\n",
        "test_articles = pd.read_csv('Data/12-articles.csv')\n",
        "node_ids_csv  = pd.read_csv('Data/tp-matrix-names.csv', sep=\"\\s+\")\n",
        "node_ids_csv.rename(columns={\"x\": \"id\"}, inplace=True)"
      ]
    },
    {
      "cell_type": "markdown",
      "metadata": {
        "id": "Nta8L4yq0TZr"
      },
      "source": [
        "#### Showing the data"
      ]
    },
    {
      "cell_type": "code",
      "execution_count": 7,
      "metadata": {
        "colab": {
          "base_uri": "https://localhost:8080/",
          "height": 206
        },
        "id": "5BWPf5Z7bx4K",
        "outputId": "08be90ca-2f85-4db9-8992-7c4147d8bc35"
      },
      "outputs": [
        {
          "data": {
            "text/html": [
              "<div>\n",
              "<style scoped>\n",
              "    .dataframe tbody tr th:only-of-type {\n",
              "        vertical-align: middle;\n",
              "    }\n",
              "\n",
              "    .dataframe tbody tr th {\n",
              "        vertical-align: top;\n",
              "    }\n",
              "\n",
              "    .dataframe thead th {\n",
              "        text-align: right;\n",
              "    }\n",
              "</style>\n",
              "<table border=\"1\" class=\"dataframe\">\n",
              "  <thead>\n",
              "    <tr style=\"text-align: right;\">\n",
              "      <th></th>\n",
              "      <th>id</th>\n",
              "      <th>titre</th>\n",
              "      <th>index</th>\n",
              "    </tr>\n",
              "  </thead>\n",
              "  <tbody>\n",
              "    <tr>\n",
              "      <th>1</th>\n",
              "      <td>53e9aa4fb7602d97033bee00</td>\n",
              "      <td>Joint Energy Management and Resource Allocatio...</td>\n",
              "      <td>1594</td>\n",
              "    </tr>\n",
              "    <tr>\n",
              "      <th>2</th>\n",
              "      <td>53e9b098b7602d9703b03c4e</td>\n",
              "      <td>Qualitative organization of collections of sha...</td>\n",
              "      <td>11636</td>\n",
              "    </tr>\n",
              "    <tr>\n",
              "      <th>3</th>\n",
              "      <td>53e9b708b7602d97042a150f</td>\n",
              "      <td>Using the fuzzy multi-criteria decision making...</td>\n",
              "      <td>12215</td>\n",
              "    </tr>\n",
              "    <tr>\n",
              "      <th>4</th>\n",
              "      <td>53e9ba6ab7602d970468b7d5</td>\n",
              "      <td>Multi-Scale Adaptive Sampling with Mobile Agen...</td>\n",
              "      <td>12593</td>\n",
              "    </tr>\n",
              "    <tr>\n",
              "      <th>5</th>\n",
              "      <td>53e9ad6cb7602d9703755d9b</td>\n",
              "      <td>Randomized locality sensitive vocabularies for...</td>\n",
              "      <td>15089</td>\n",
              "    </tr>\n",
              "  </tbody>\n",
              "</table>\n",
              "</div>"
            ],
            "text/plain": [
              "                         id  \\\n",
              "1  53e9aa4fb7602d97033bee00   \n",
              "2  53e9b098b7602d9703b03c4e   \n",
              "3  53e9b708b7602d97042a150f   \n",
              "4  53e9ba6ab7602d970468b7d5   \n",
              "5  53e9ad6cb7602d9703755d9b   \n",
              "\n",
              "                                               titre  index  \n",
              "1  Joint Energy Management and Resource Allocatio...   1594  \n",
              "2  Qualitative organization of collections of sha...  11636  \n",
              "3  Using the fuzzy multi-criteria decision making...  12215  \n",
              "4  Multi-Scale Adaptive Sampling with Mobile Agen...  12593  \n",
              "5  Randomized locality sensitive vocabularies for...  15089  "
            ]
          },
          "execution_count": 7,
          "metadata": {},
          "output_type": "execute_result"
        }
      ],
      "source": [
        "test_articles.head()"
      ]
    },
    {
      "cell_type": "code",
      "execution_count": 8,
      "metadata": {
        "colab": {
          "base_uri": "https://localhost:8080/",
          "height": 206
        },
        "id": "qdH-gYoDcG03",
        "outputId": "848f696e-ef07-40d4-a2b4-69ff0f95be93"
      },
      "outputs": [
        {
          "data": {
            "text/html": [
              "<div>\n",
              "<style scoped>\n",
              "    .dataframe tbody tr th:only-of-type {\n",
              "        vertical-align: middle;\n",
              "    }\n",
              "\n",
              "    .dataframe tbody tr th {\n",
              "        vertical-align: top;\n",
              "    }\n",
              "\n",
              "    .dataframe thead th {\n",
              "        text-align: right;\n",
              "    }\n",
              "</style>\n",
              "<table border=\"1\" class=\"dataframe\">\n",
              "  <thead>\n",
              "    <tr style=\"text-align: right;\">\n",
              "      <th></th>\n",
              "      <th>id</th>\n",
              "    </tr>\n",
              "  </thead>\n",
              "  <tbody>\n",
              "    <tr>\n",
              "      <th>1</th>\n",
              "      <td>53e99808b7602d970201b1fe</td>\n",
              "    </tr>\n",
              "    <tr>\n",
              "      <th>2</th>\n",
              "      <td>53e9b37bb7602d9703e5eb33</td>\n",
              "    </tr>\n",
              "    <tr>\n",
              "      <th>3</th>\n",
              "      <td>53e9b917b7602d9704500623</td>\n",
              "    </tr>\n",
              "    <tr>\n",
              "      <th>4</th>\n",
              "      <td>56d90f35dabfae2eee308269</td>\n",
              "    </tr>\n",
              "    <tr>\n",
              "      <th>5</th>\n",
              "      <td>53e9af87b7602d97039ce689</td>\n",
              "    </tr>\n",
              "  </tbody>\n",
              "</table>\n",
              "</div>"
            ],
            "text/plain": [
              "                         id\n",
              "1  53e99808b7602d970201b1fe\n",
              "2  53e9b37bb7602d9703e5eb33\n",
              "3  53e9b917b7602d9704500623\n",
              "4  56d90f35dabfae2eee308269\n",
              "5  53e9af87b7602d97039ce689"
            ]
          },
          "execution_count": 8,
          "metadata": {},
          "output_type": "execute_result"
        }
      ],
      "source": [
        "node_ids_csv.head()"
      ]
    },
    {
      "cell_type": "code",
      "execution_count": 9,
      "metadata": {
        "colab": {
          "base_uri": "https://localhost:8080/"
        },
        "id": "5VbpYiZ44q1i",
        "outputId": "239330d2-c931-49a5-fb47-b9b10cd51cff"
      },
      "outputs": [
        {
          "data": {
            "text/plain": [
              "id                                53e9aa4fb7602d97033bee00\n",
              "titre    Joint Energy Management and Resource Allocatio...\n",
              "index                                                 1594\n",
              "Name: 1, dtype: object"
            ]
          },
          "execution_count": 9,
          "metadata": {},
          "output_type": "execute_result"
        }
      ],
      "source": [
        "test_articles.iloc[0]"
      ]
    },
    {
      "cell_type": "markdown",
      "metadata": {
        "id": "Wuvyjkok70SH"
      },
      "source": [
        "On observe un décalage entre les indices des sommets dans le CSV et dans le Graphe **G**"
      ]
    },
    {
      "cell_type": "code",
      "execution_count": 10,
      "metadata": {
        "colab": {
          "base_uri": "https://localhost:8080/"
        },
        "id": "Kzeh3wnv2mv4",
        "outputId": "5fa2a45b-124c-4b92-f224-858e13a340fa"
      },
      "outputs": [
        {
          "data": {
            "text/plain": [
              "0"
            ]
          },
          "execution_count": 10,
          "metadata": {},
          "output_type": "execute_result"
        }
      ],
      "source": [
        "list(G.nodes())[0]"
      ]
    },
    {
      "cell_type": "code",
      "execution_count": 11,
      "metadata": {
        "colab": {
          "base_uri": "https://localhost:8080/"
        },
        "id": "OgVTYloc3LWw",
        "outputId": "72f9acef-960d-4c53-95eb-67fb80286306"
      },
      "outputs": [
        {
          "data": {
            "text/plain": [
              "1"
            ]
          },
          "execution_count": 11,
          "metadata": {},
          "output_type": "execute_result"
        }
      ],
      "source": [
        "node_ids_csv.index[0]"
      ]
    },
    {
      "cell_type": "code",
      "execution_count": 12,
      "metadata": {
        "colab": {
          "base_uri": "https://localhost:8080/"
        },
        "id": "n84BnVOqlFfd",
        "outputId": "b3daa168-1ec7-478d-bed4-8ed051127639"
      },
      "outputs": [
        {
          "data": {
            "text/plain": [
              "Index([ 1593, 11635, 12214, 12592, 15088, 18538, 18644, 35303, 35352, 36564,\n",
              "       50495, 50496],\n",
              "      dtype='int64')"
            ]
          },
          "execution_count": 12,
          "metadata": {},
          "output_type": "execute_result"
        }
      ],
      "source": [
        "## Getting the indices of test articles in the Graph\n",
        "test_indices = node_ids_csv.index[node_ids_csv.id.isin(test_articles.id)] - 1 #The minus 1 is necessary because the first index is 1, in contrary to the first node that is 0\n",
        "test_indices"
      ]
    },
    {
      "cell_type": "markdown",
      "metadata": {
        "id": "SkC6ahcLaRoZ"
      },
      "source": [
        "## Page Rank Global et personnalisé"
      ]
    },
    {
      "cell_type": "code",
      "execution_count": 13,
      "metadata": {
        "id": "KEJjC25Ka784"
      },
      "outputs": [],
      "source": [
        "# Computing the Global Pagerank via NetworkX\n",
        "pr              = nx.pagerank(G, alpha=0.85)\n",
        "\n",
        "#sorted_articles = sorted(pr.items(), key=lambda item: item[1], reverse=True)\n",
        "sorted_articles = np.argsort(list(pr.values()))[::-1] # Sorting the articles by their pagerank"
      ]
    },
    {
      "cell_type": "code",
      "execution_count": 14,
      "metadata": {
        "colab": {
          "base_uri": "https://localhost:8080/"
        },
        "id": "rBov0i-o3ek-",
        "outputId": "d29acc33-6e74-4ffc-a40f-2c804c938e08"
      },
      "outputs": [
        {
          "data": {
            "text/plain": [
              "1"
            ]
          },
          "execution_count": 14,
          "metadata": {},
          "output_type": "execute_result"
        }
      ],
      "source": [
        "# Exemple qui montre qu'il faut rajouter +1\n",
        "np.where(sorted_articles == 32)[0][0]+1"
      ]
    },
    {
      "cell_type": "markdown",
      "metadata": {},
      "source": [
        "### Page rank global"
      ]
    },
    {
      "cell_type": "code",
      "execution_count": 15,
      "metadata": {
        "colab": {
          "base_uri": "https://localhost:8080/"
        },
        "id": "-K-RSXf0zwX-",
        "outputId": "fb946a54-d67d-4204-e377-cf87d576ae29"
      },
      "outputs": [
        {
          "name": "stdout",
          "output_type": "stream",
          "text": [
            "Le MRR de l'article `Joint Energy Management and Resource Allocation in Rechargeable Sensor Networks` est de : 0.002027\n",
            "Le MRR de l'article `Qualitative organization of collections of shapes via quartet analysis` est de : 0.066947\n",
            "Le MRR de l'article `Using the fuzzy multi-criteria decision making approach for measuring the possibility of successful knowledge management` est de : 0.002276\n",
            "Le MRR de l'article `Multi-Scale Adaptive Sampling with Mobile Agents for Mapping of Forest Fires` est de : 0.002594\n",
            "Le MRR de l'article `Randomized locality sensitive vocabularies for bag-of-features model` est de : 0.000455\n",
            "Le MRR de l'article `Cache-Leakage Resilient OS Isolation in an Idealized Model of Virtualization` est de : 0.000145\n",
            "Le MRR de l'article `Discrete tracking of parametrized curves` est de : 0.002117\n",
            "Le MRR de l'article `Spatial template extraction for image retrieval by region matching.` est de : 0.001798\n",
            "Le MRR de l'article `Distance sets for shape filters and shape recognition.` est de : 0.000548\n",
            "Le MRR de l'article `Automating cross-layer diagnosis of enterprise wireless networks` est de : 0.011386\n",
            "Le MRR de l'article `Content delivery and caching from a network provider's perspective` est de : 0.000075\n",
            "Le MRR de l'article `A review of recent advances in learner and skill modeling in intelligent learning environments` est de : 0.000361\n",
            "\n",
            " Le MRR moyen des 12 articles est de : 0.007561\n"
          ]
        }
      ],
      "source": [
        "# Calcul du MRR pour chacun des 12 articles. \n",
        "MRR_list = []\n",
        "for i, test_index in enumerate(test_indices):\n",
        "    reco_pertinente_liste = list(G.successors(test_index))\n",
        "    rang_reco_pertinentes =np.array([np.where(sorted_articles == id)[0][0]+1 for id in reco_pertinente_liste])\n",
        "    MRR = MRR_on_ranks(rang_reco_pertinentes)\n",
        "    MRR_list.append(MRR)\n",
        "    print(\"Le MRR de l'article `{0}` est de : {1:4f}\".format(test_articles.iloc[i, 1], MRR))\n",
        "\n",
        "print(\"\\n Le MRR moyen des 12 articles est de : {0:4f}\".format(np.mean(MRR_list)))"
      ]
    },
    {
      "cell_type": "markdown",
      "metadata": {
        "id": "vnFFf_FvPmwk"
      },
      "source": [
        "### Page Rank Personnalisé \n",
        "Le lien à l'explication du Page Rank Thématique : [lien](https://www.youtube.com/watch?v=URaS1u-Murc&ab_channel=ArtificialIntelligence-AllinOne)."
      ]
    },
    {
      "cell_type": "markdown",
      "metadata": {},
      "source": [
        "### Page Rank Personnalisé "
      ]
    },
    {
      "cell_type": "markdown",
      "metadata": {},
      "source": [
        "Assigner la valeur 2.0 à toutes les références adjacentes. Puis recaculer le MRR"
      ]
    },
    {
      "cell_type": "code",
      "execution_count": 16,
      "metadata": {},
      "outputs": [
        {
          "name": "stdout",
          "output_type": "stream",
          "text": [
            "Le MRR de l'article `Joint Energy Management and Resource Allocation in Rechargeable Sensor Networks` est de : 0.232254\n",
            "Le MRR de l'article `Qualitative organization of collections of shapes via quartet analysis` est de : 0.211296\n",
            "Le MRR de l'article `Using the fuzzy multi-criteria decision making approach for measuring the possibility of successful knowledge management` est de : 0.211296\n",
            "Le MRR de l'article `Multi-Scale Adaptive Sampling with Mobile Agents for Mapping of Forest Fires` est de : 0.115960\n",
            "Le MRR de l'article `Randomized locality sensitive vocabularies for bag-of-features model` est de : 0.244626\n",
            "Le MRR de l'article `Cache-Leakage Resilient OS Isolation in an Idealized Model of Virtualization` est de : 0.080108\n",
            "Le MRR de l'article `Discrete tracking of parametrized curves` est de : 0.111261\n",
            "Le MRR de l'article `Spatial template extraction for image retrieval by region matching.` est de : 0.211296\n",
            "Le MRR de l'article `Distance sets for shape filters and shape recognition.` est de : 0.194173\n",
            "Le MRR de l'article `Automating cross-layer diagnosis of enterprise wireless networks` est de : 0.221215\n",
            "Le MRR de l'article `Content delivery and caching from a network provider's perspective` est de : 0.611111\n",
            "Le MRR de l'article `A review of recent advances in learner and skill modeling in intelligent learning environments` est de : 0.611111\n",
            "\n",
            " Le MRR moyen des 12 articles est de : 0.254642\n"
          ]
        }
      ],
      "source": [
        "# Calcul du MRR pour chacun des 12 articles.\n",
        "MRR_list = []\n",
        "for i, test_index in enumerate(test_indices):\n",
        "    personalization = {node:2.0 for node in G.successors(test_index)}\n",
        "    pr = nx.pagerank(G, alpha=0.85, personalization=personalization)\n",
        "    sorted_articles = np.argsort(list(pr.values()))[::-1] # Sorting the articles by their pagerank\n",
        "    reco_pertinente_liste = list(G.successors(test_index))\n",
        "    rang_reco_pertinentes =np.array([np.where(sorted_articles == id)[0][0]+1 for id in reco_pertinente_liste])\n",
        "    MRR = MRR_on_ranks(rang_reco_pertinentes)\n",
        "    MRR_list.append(MRR)\n",
        "    print(\"Le MRR de l'article `{0}` est de : {1:4f}\".format(test_articles.iloc[i, 1], MRR))\n",
        "\n",
        "print(\"\\n Le MRR moyen des 12 articles est de : {0:4f}\".format(np.mean(MRR_list)))"
      ]
    },
    {
      "cell_type": "markdown",
      "metadata": {},
      "source": [
        "#### Page Rank personnalisé avec validation croisée Leave one out : "
      ]
    },
    {
      "cell_type": "code",
      "execution_count": 17,
      "metadata": {},
      "outputs": [
        {
          "name": "stdout",
          "output_type": "stream",
          "text": [
            "Le MRR de l'article `Joint Energy Management and Resource Allocation in Rechargeable Sensor Networks` est de : 0.244626\n",
            "Le MRR de l'article `Qualitative organization of collections of shapes via quartet analysis` est de : 0.221215\n",
            "Le MRR de l'article `Using the fuzzy multi-criteria decision making approach for measuring the possibility of successful knowledge management` est de : 0.221215\n",
            "Le MRR de l'article `Multi-Scale Adaptive Sampling with Mobile Agents for Mapping of Forest Fires` est de : 0.118479\n",
            "Le MRR de l'article `Randomized locality sensitive vocabularies for bag-of-features model` est de : 0.258601\n",
            "Le MRR de l'article `Cache-Leakage Resilient OS Isolation in an Idealized Model of Virtualization` est de : 0.081211\n",
            "Le MRR de l'article `Discrete tracking of parametrized curves` est de : 0.113556\n",
            "Le MRR de l'article `Spatial template extraction for image retrieval by region matching.` est de : 0.221215\n",
            "Le MRR de l'article `Distance sets for shape filters and shape recognition.` est de : 0.202327\n",
            "Le MRR de l'article `Automating cross-layer diagnosis of enterprise wireless networks` est de : 0.232254\n",
            "Le MRR de l'article `Content delivery and caching from a network provider's perspective` est de : 0.750000\n",
            "Le MRR de l'article `A review of recent advances in learner and skill modeling in intelligent learning environments` est de : 0.750000\n",
            "\n",
            " Le MRR moyen des 12 articles est de : 0.284558\n"
          ]
        }
      ],
      "source": [
        "#### Page Rank personnalisé avec validation croisée Leave one out : \n",
        "\n",
        "# on creer une copie du graphe,\n",
        "\n",
        "# on casse l'arrete entre le noeud et ses successeurs et on fait la validation croisee\n",
        "\n",
        "MRR_list = []\n",
        "for i, test_index in enumerate(test_indices):\n",
        "    MRR_Copy_list = []\n",
        "    for succ in G.successors(test_index):\n",
        "        G_copy = G.copy()\n",
        "        G_copy.remove_edge(test_index, succ)\n",
        "        personalization = {node:2.0 for node in G_copy.successors(test_index)}\n",
        "        pr = nx.pagerank(G_copy, personalization=personalization)\n",
        "        sorted_articles = np.argsort(list(pr.values()))[::-1]\n",
        "        reco_pertinente_liste = list(G_copy.successors(test_index))\n",
        "        rang_reco_pertinentes =np.array([np.where(sorted_articles == id)[0][0]+1 for id in reco_pertinente_liste])\n",
        "        MRR = MRR_on_ranks(rang_reco_pertinentes)\n",
        "        MRR_Copy_list.append(MRR)\n",
        "    MRR = np.mean(MRR_Copy_list)\n",
        "    MRR_list.append(MRR)\n",
        "    print(\"Le MRR de l'article `{0}` est de : {1:4f}\".format(test_articles.iloc[i, 1], MRR))\n",
        "print(\"\\n Le MRR moyen des 12 articles est de : {0:4f}\".format(np.mean(MRR_list)))"
      ]
    },
    {
      "cell_type": "markdown",
      "metadata": {},
      "source": [
        "Obeservez-vous des différences entre le page rank global et personnalisé ?"
      ]
    },
    {
      "cell_type": "markdown",
      "metadata": {},
      "source": [
        "## Calcul des moyennes de métriques et comparaison"
      ]
    },
    {
      "cell_type": "markdown",
      "metadata": {},
      "source": [
        "Pour normaliser les mesures de telle sorte qu'un rappel de 100% des références donne le score maximal, en particulier dans le contexte où seuls certains articles ont un grand nombre de références, on doit adapter la procédure de calcul de la précision et du rappel pour tenir compte du nombre maximum de références pertinente par article. Si le nombre de références pertinentes est inférieur à k (le nombre de recommandations considérées pour la précision), le score doit être ajusté pour refléter ce maximum théorique."
      ]
    },
    {
      "cell_type": "code",
      "execution_count": 18,
      "metadata": {},
      "outputs": [
        {
          "name": "stdout",
          "output_type": "stream",
          "text": [
            "Précision normalisée moyenne pour les 20 premiers articles recommandés est de : 1.000000\n",
            "Rappel moyen pour les 20 premiers articles recommandés est de : 0.868892\n"
          ]
        }
      ],
      "source": [
        "normalized_precision_list_q2 = []\n",
        "recall_list_q2 = []\n",
        "k = 20\n",
        "\n",
        "for i, test_index in enumerate(test_indices):\n",
        "    personalization = {node:2.0 for node in G.successors(test_index)}\n",
        "    pr = nx.pagerank(G, alpha=0.85, personalization=personalization)\n",
        "    sorted_articles = np.argsort(list(pr.values()))[::-1] # Sorting the articles by their pagerank\n",
        "    reco_pertinente_liste = list(G.successors(test_index))\n",
        "    rang_reco_pertinentes =np.array([np.where(sorted_articles == id)[0][0]+1 for id in reco_pertinente_liste])\n",
        "    # Calcul du Rappel\n",
        "    total_relevant = len(reco_pertinente_liste) # Nombre total d'articles pertinents\n",
        "    found_relevant = len(rang_reco_pertinentes[rang_reco_pertinentes <= k]) # Nombre d'articles pertinents retrouvés\n",
        "    recall = found_relevant / total_relevant\n",
        "    recall_list_q2.append(recall)\n",
        "    \n",
        "    # Normalisation de la précision\n",
        "    normalized_precision = found_relevant / min(k, total_relevant)\n",
        "    normalized_precision_list_q2.append(normalized_precision)\n",
        "\n",
        "print(f\"Précision normalisée moyenne pour les {k} premiers articles recommandés est de : {np.mean(normalized_precision_list_q2):4f}\")\n",
        "print(f\"Rappel moyen pour les {k} premiers articles recommandés est de : {np.mean(recall_list_q2):4f}\")\n"
      ]
    },
    {
      "cell_type": "markdown",
      "metadata": {
        "id": "3XvW9hqb2J0i"
      },
      "source": [
        "On observe que le page rank thématique donne de bien meilleurs résultats que le Page Rank Global !"
      ]
    },
    {
      "cell_type": "markdown",
      "metadata": {
        "id": "hadQjZut8-Rj"
      },
      "source": [
        "## Aprroche Similarité Cosinus"
      ]
    },
    {
      "cell_type": "code",
      "execution_count": 19,
      "metadata": {
        "id": "uh-AOx_N8-dM"
      },
      "outputs": [],
      "source": [
        "cos_sim_test_adjmat    = cosine_similarity(M[test_indices], M)"
      ]
    },
    {
      "cell_type": "code",
      "execution_count": 20,
      "metadata": {
        "colab": {
          "base_uri": "https://localhost:8080/"
        },
        "id": "cW_HZvZXBIJ_",
        "outputId": "f9a03f1e-c261-4642-bf53-47d813a15d5b"
      },
      "outputs": [
        {
          "data": {
            "text/plain": [
              "array([[1., 0., 0., 0., 0., 0., 0., 0., 0., 0., 0., 0.],\n",
              "       [0., 1., 0., 0., 0., 0., 0., 0., 0., 0., 0., 0.],\n",
              "       [0., 0., 1., 0., 0., 0., 0., 0., 0., 0., 0., 0.],\n",
              "       [0., 0., 0., 1., 0., 0., 0., 0., 0., 0., 0., 0.],\n",
              "       [0., 0., 0., 0., 1., 0., 0., 0., 0., 0., 0., 0.],\n",
              "       [0., 0., 0., 0., 0., 1., 0., 0., 0., 0., 0., 0.],\n",
              "       [0., 0., 0., 0., 0., 0., 1., 0., 0., 0., 0., 0.],\n",
              "       [0., 0., 0., 0., 0., 0., 0., 1., 0., 0., 0., 0.],\n",
              "       [0., 0., 0., 0., 0., 0., 0., 0., 1., 0., 0., 0.],\n",
              "       [0., 0., 0., 0., 0., 0., 0., 0., 0., 1., 0., 0.],\n",
              "       [0., 0., 0., 0., 0., 0., 0., 0., 0., 0., 1., 0.],\n",
              "       [0., 0., 0., 0., 0., 0., 0., 0., 0., 0., 0., 1.]])"
            ]
          },
          "execution_count": 20,
          "metadata": {},
          "output_type": "execute_result"
        }
      ],
      "source": [
        "## On remarque que la similarité cosinus entre deux vecteurs identiques est ~1\n",
        "cos_sim_test_adjmat[:, test_indices]"
      ]
    },
    {
      "cell_type": "code",
      "execution_count": 21,
      "metadata": {
        "colab": {
          "base_uri": "https://localhost:8080/"
        },
        "id": "Ouqv6buO9voQ",
        "outputId": "34e0229f-b7de-444e-c49d-249fbc852d99"
      },
      "outputs": [
        {
          "name": "stdout",
          "output_type": "stream",
          "text": [
            "\t\t\tRéstultats de l'approche Similarité Cosinus : \n",
            "\n",
            "Le MRR de l'article `Joint Energy Management and Resource Allocation in Rechargeable Sensor Networks` est de : 0.058316\n",
            "Le MRR de l'article `Qualitative organization of collections of shapes via quartet analysis` est de : 0.001257\n",
            "Le MRR de l'article `Using the fuzzy multi-criteria decision making approach for measuring the possibility of successful knowledge management` est de : 0.001830\n",
            "Le MRR de l'article `Multi-Scale Adaptive Sampling with Mobile Agents for Mapping of Forest Fires` est de : 0.010049\n",
            "Le MRR de l'article `Randomized locality sensitive vocabularies for bag-of-features model` est de : 0.014697\n",
            "Le MRR de l'article `Cache-Leakage Resilient OS Isolation in an Idealized Model of Virtualization` est de : 0.019227\n",
            "Le MRR de l'article `Discrete tracking of parametrized curves` est de : 0.013581\n",
            "Le MRR de l'article `Spatial template extraction for image retrieval by region matching.` est de : 0.008132\n",
            "Le MRR de l'article `Distance sets for shape filters and shape recognition.` est de : 0.005350\n",
            "Le MRR de l'article `Automating cross-layer diagnosis of enterprise wireless networks` est de : 0.000568\n",
            "Le MRR de l'article `Content delivery and caching from a network provider's perspective` est de : 0.000140\n",
            "Le MRR de l'article `A review of recent advances in learner and skill modeling in intelligent learning environments` est de : 0.005595\n",
            "\n",
            " Le MRR moyen des 12 articles est de : 0.011562\n",
            "CPU times: total: 15.6 ms\n",
            "Wall time: 19.3 ms\n"
          ]
        }
      ],
      "source": [
        "%%time\n",
        "# Computing MRR for each article in test set:\n",
        "print(\"\\t\\t\\tRéstultats de l'approche Similarité Cosinus : \\n\")\n",
        "\n",
        "MRR_list_q3 = []\n",
        "for i, test_index in enumerate(test_indices):\n",
        "    reco_pertinente_liste  = list(G.successors(test_index))\n",
        "    cos_sim_test_adjmat[i, test_index] = 0 # On met à 0 les similarités entre le vecteur de test et lui même\n",
        "    sorted_articles_cossim = np.argsort(cos_sim_test_adjmat[i])[::-1] # On trie les articles par similarité\n",
        "    rang_reco_pertinentes  = np.array([np.where(sorted_articles_cossim == id)[0][0]+1 for id in reco_pertinente_liste])\n",
        "    MRR = MRR_on_ranks(rang_reco_pertinentes)\n",
        "    MRR_list_q3.append(MRR)\n",
        "    print(\"Le MRR de l'article `{0}` est de : {1:4f}\".format(test_articles.iloc[i, 1], MRR))\n",
        "\n",
        "print(\"\\n Le MRR moyen des 12 articles est de : {0:4f}\".format(np.mean(MRR_list_q3)))"
      ]
    },
    {
      "cell_type": "markdown",
      "metadata": {
        "id": "CQKZ9vwL_4Uf"
      },
      "source": [
        "On remarque quand même une forte amélioration des résultats par rapport à la question 1. Mais que le pagerank thématique de la Q2 donne quand même de bien meilleurs résultats."
      ]
    },
    {
      "cell_type": "code",
      "execution_count": 22,
      "metadata": {
        "colab": {
          "base_uri": "https://localhost:8080/"
        },
        "id": "KzLMYt5oAjLs",
        "outputId": "365af4a6-a426-4147-e1e4-3d12137fdf64"
      },
      "outputs": [
        {
          "data": {
            "text/plain": [
              "scipy.sparse._csr.csr_matrix"
            ]
          },
          "execution_count": 22,
          "metadata": {},
          "output_type": "execute_result"
        }
      ],
      "source": [
        "type(M)"
      ]
    },
    {
      "cell_type": "markdown",
      "metadata": {
        "id": "uFIxz83oVcKF"
      },
      "source": [
        "#### Leave One Out"
      ]
    },
    {
      "cell_type": "code",
      "execution_count": 23,
      "metadata": {
        "colab": {
          "base_uri": "https://localhost:8080/"
        },
        "id": "WkYZOa6jVdny",
        "outputId": "38997dbf-cc5b-42d6-ac06-1bf9319dfabf"
      },
      "outputs": [
        {
          "name": "stdout",
          "output_type": "stream",
          "text": [
            "Le MRR de l'article `Joint Energy Management and Resource Allocation in Rechargeable Sensor Networks` est de : 0.058316\n",
            "Le MRR de l'article `Qualitative organization of collections of shapes via quartet analysis` est de : 0.001257\n",
            "Le MRR de l'article `Using the fuzzy multi-criteria decision making approach for measuring the possibility of successful knowledge management` est de : 0.001830\n",
            "Le MRR de l'article `Multi-Scale Adaptive Sampling with Mobile Agents for Mapping of Forest Fires` est de : 0.010049\n",
            "Le MRR de l'article `Randomized locality sensitive vocabularies for bag-of-features model` est de : 0.014697\n",
            "Le MRR de l'article `Cache-Leakage Resilient OS Isolation in an Idealized Model of Virtualization` est de : 0.019227\n",
            "Le MRR de l'article `Discrete tracking of parametrized curves` est de : 0.013581\n",
            "Le MRR de l'article `Spatial template extraction for image retrieval by region matching.` est de : 0.008132\n",
            "Le MRR de l'article `Distance sets for shape filters and shape recognition.` est de : 0.005350\n",
            "Le MRR de l'article `Automating cross-layer diagnosis of enterprise wireless networks` est de : 0.000568\n",
            "Le MRR de l'article `Content delivery and caching from a network provider's perspective` est de : 0.000140\n",
            "Le MRR de l'article `A review of recent advances in learner and skill modeling in intelligent learning environments` est de : 0.005595\n",
            "\n",
            " Le MRR moyen des 12 articles est de : 0.011562\n",
            "CPU times: total: 3.3 s\n",
            "Wall time: 3.54 s\n"
          ]
        }
      ],
      "source": [
        "%%time\n",
        "MRR_list_q3b = []\n",
        "for i, test_index in enumerate(test_indices):\n",
        "    rank_list = []\n",
        "    reco_pertinente_liste = list(G.successors(test_index))\n",
        "    for k in reco_pertinente_liste:\n",
        "        M_copy = M.copy()\n",
        "        # Leave one out\n",
        "        cos_sim_test_adjmat = cosine_similarity(M_copy[test_index], M_copy)\n",
        "        #On met à 0 les similarités entre le vecteur de test et lui même\n",
        "        cos_sim_test_adjmat[:, test_index] = 0\n",
        "        sorted_articles_cossim = np.argsort(cos_sim_test_adjmat[0])[::-1]\n",
        "        rank = np.where(sorted_articles_cossim == k)[0][0]+1\n",
        "        rank_list.append(rank)\n",
        "    MRR = MRR_on_ranks(rank_list)\n",
        "    MRR_list_q3b.append(MRR)\n",
        "    print(\"Le MRR de l'article `{0}` est de : {1:4f}\".format(test_articles.iloc[i, 1], MRR))\n",
        "  \n",
        "print(\"\\n Le MRR moyen des 12 articles est de : {0:4f}\".format(np.mean(MRR_list_q3)))"
      ]
    },
    {
      "cell_type": "markdown",
      "metadata": {},
      "source": [
        "## Approche LightGCN"
      ]
    },
    {
      "cell_type": "code",
      "execution_count": 24,
      "metadata": {},
      "outputs": [
        {
          "name": "stdout",
          "output_type": "stream",
          "text": [
            "Note: you may need to restart the kernel to use updated packages.\n"
          ]
        },
        {
          "name": "stderr",
          "output_type": "stream",
          "text": [
            "ERROR: Could not find a version that satisfies the requirement torch==1.9.0 (from versions: 2.2.0, 2.2.1, 2.2.2)\n",
            "ERROR: No matching distribution found for torch==1.9.0\n"
          ]
        }
      ],
      "source": [
        "%pip install -q torch==1.9.0"
      ]
    },
    {
      "cell_type": "code",
      "execution_count": 34,
      "metadata": {},
      "outputs": [
        {
          "name": "stderr",
          "output_type": "stream",
          "text": [
            "<>:3: SyntaxWarning: invalid escape sequence '\\d'\n",
            "<>:3: SyntaxWarning: invalid escape sequence '\\d'\n",
            "C:\\Users\\oussa\\AppData\\Local\\Temp\\ipykernel_12504\\3645441752.py:3: SyntaxWarning: invalid escape sequence '\\d'\n",
            "  output_path = \"LightGCN-PyTorch\\data\\TP4\\\\User-list\"\n"
          ]
        },
        {
          "data": {
            "text/plain": [
              "'LightGCN-PyTorch\\\\data\\\\TP4\\\\User-list'"
            ]
          },
          "execution_count": 34,
          "metadata": {},
          "output_type": "execute_result"
        }
      ],
      "source": [
        "csv_file_path = \"Data\\\\tp-matrix-names.csv\"\n",
        "output_path = \"LightGCN-PyTorch\\data\\TP4\\\\User-list\"\n",
        "\n",
        "with open(csv_file_path, 'r') as csv_file:\n",
        "    lines = csv_file.readlines()\n",
        "\n",
        "with open(output_path, 'w') as txt_file:\n",
        "    for line in lines[1:]:\n",
        "        number = line.split('\"')[1]\n",
        "        txt_file.write(f\"{number} {number}\\n\")\n",
        "\n",
        "output_path\n"
      ]
    },
    {
      "cell_type": "code",
      "execution_count": 45,
      "metadata": {},
      "outputs": [
        {
          "name": "stderr",
          "output_type": "stream",
          "text": [
            "<>:22: SyntaxWarning: invalid escape sequence '\\d'\n",
            "<>:23: SyntaxWarning: invalid escape sequence '\\d'\n",
            "<>:22: SyntaxWarning: invalid escape sequence '\\d'\n",
            "<>:23: SyntaxWarning: invalid escape sequence '\\d'\n",
            "C:\\Users\\oussa\\AppData\\Local\\Temp\\ipykernel_12504\\4232129318.py:22: SyntaxWarning: invalid escape sequence '\\d'\n",
            "  train_path = \"LightGCN-PyTorch\\data\\TP4\\\\train.txt\"\n",
            "C:\\Users\\oussa\\AppData\\Local\\Temp\\ipykernel_12504\\4232129318.py:23: SyntaxWarning: invalid escape sequence '\\d'\n",
            "  test_path = \"LightGCN-PyTorch\\data\\TP4\\\\test.txt\"\n"
          ]
        },
        {
          "data": {
            "text/plain": [
              "('LightGCN-PyTorch\\\\data\\\\TP4\\\\train.txt',\n",
              " 'LightGCN-PyTorch\\\\data\\\\TP4\\\\test.txt')"
            ]
          },
          "execution_count": 45,
          "metadata": {},
          "output_type": "execute_result"
        }
      ],
      "source": [
        "import random\n",
        "\n",
        "datasetNode = []\n",
        "for node in G.nodes():\n",
        "    datasetNode.append([node]+list(G.successors(node)))\n",
        "    # ici je supprime les noeuds qui n'ont pas de successeurs\n",
        "    if len(list(G.successors(node))) == 0:\n",
        "        datasetNode.remove([node]+list(G.successors(node)))\n",
        "\n",
        "\n",
        "\n",
        "random.shuffle(datasetNode)\n",
        "train_test_split = 0.8\n",
        "train_size = int(len(datasetNode) * train_test_split)\n",
        "train_dataset = datasetNode[:train_size]\n",
        "test_dataset = datasetNode[train_size:]\n",
        "\n",
        "test_dataset.sort(key=lambda x: x[0])\n",
        "train_dataset.sort(key=lambda x: x[0])\n",
        "\n",
        "# On enregistre les train et les test datasets dans des fichiers textes\n",
        "train_path = \"LightGCN-PyTorch\\data\\TP4\\\\train.txt\"\n",
        "test_path = \"LightGCN-PyTorch\\data\\TP4\\\\test.txt\"\n",
        "\n",
        "with open(train_path, 'w') as txt_file:\n",
        "    for line in train_dataset:\n",
        "        txt_file.write(\" \".join([str(x) for x in line]) + \"\\n\")\n",
        "\n",
        "with open(test_path, 'w') as txt_file:\n",
        "    for line in test_dataset:\n",
        "        txt_file.write(\" \".join([str(x) for x in line]) + \"\\n\")\n",
        "\n",
        "train_path, test_path"
      ]
    },
    {
      "cell_type": "code",
      "execution_count": 62,
      "metadata": {},
      "outputs": [
        {
          "name": "stderr",
          "output_type": "stream",
          "text": [
            "UsageError: Line magic function `%tensorboard` not found.\n"
          ]
        }
      ],
      "source": [
        "# On roule TensorBoard sur les derniers logs\n",
        "%tensorboard --logdir=\"LightGCN-PyTorch\\code\\runs\\04-08-14h40m06s--lgn\" --host localhost --port 8088"
      ]
    },
    {
      "cell_type": "markdown",
      "metadata": {},
      "source": [
        "![localImage](Screenshot%202024-04-08%20163148.png)"
      ]
    }
  ],
  "metadata": {
    "colab": {
      "provenance": []
    },
    "kernelspec": {
      "display_name": "Python 3",
      "name": "python3"
    },
    "language_info": {
      "codemirror_mode": {
        "name": "ipython",
        "version": 3
      },
      "file_extension": ".py",
      "mimetype": "text/x-python",
      "name": "python",
      "nbconvert_exporter": "python",
      "pygments_lexer": "ipython3",
      "version": "3.12.1"
    }
  },
  "nbformat": 4,
  "nbformat_minor": 0
}
